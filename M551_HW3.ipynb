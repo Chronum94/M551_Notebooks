{
 "cells": [
  {
   "cell_type": "code",
   "execution_count": 38,
   "metadata": {
    "collapsed": true
   },
   "outputs": [],
   "source": [
    "import numpy as np\n",
    "import matplotlib.pyplot as plt\n",
    "\n",
    "%matplotlib inline\n",
    "plt.rcParams['figure.figsize'] = 10, 8"
   ]
  },
  {
   "cell_type": "code",
   "execution_count": 39,
   "metadata": {
    "collapsed": true
   },
   "outputs": [],
   "source": [
    "# Function to find the gradient of a given\n",
    "# multivariable function\n",
    "def grad(func, xvec, xlen):\n",
    "    \n",
    "    # Point at which to find gradient.\n",
    "    xvec = xvec.astype('float64')\n",
    "    # Array storing gradient.\n",
    "    gradvec = np.zeros(xlen)\n",
    "    # h-value used for numeric differentiation.\n",
    "    h = 1e-5\n",
    "    \n",
    "    # Filling up gradient vector.\n",
    "    for j in range(xlen):\n",
    "        \n",
    "        # Storing the x-h and x+h vectors for gradient calculation.\n",
    "        xbac = xvec.copy()\n",
    "        xbac[j] -= h\n",
    "        xfor = xvec.copy()\n",
    "        xfor[j] += h\n",
    "        # Appropriate component of the gradient.\n",
    "        gradvec[j] = (func(xfor)-func(xbac))/(2*h)\n",
    "\n",
    "    return gradvec\n",
    "    \n",
    "def jacobian(funcvec, xvec):\n",
    "    \n",
    "    # Vector of functions.\n",
    "    # Length of function and indep. variable vector.\n",
    "    flen = np.shape(funcvec)[0]\n",
    "    xlen = np.shape(xvec)[0]\n",
    "    # Creating Jacobian matrix.\n",
    "    jacmatrix = np.zeros([flen, xlen])\n",
    "    \n",
    "    # Filling up Jacobian matrix row by row.\n",
    "    for i in range(flen):\n",
    "        jacmatrix[i, :] = grad(funcvec[i], xvec, xlen)\n",
    "        \n",
    "    \n",
    "    return jacmatrix"
   ]
  },
  {
   "cell_type": "code",
   "execution_count": 43,
   "metadata": {
    "collapsed": false
   },
   "outputs": [
    {
     "name": "stdout",
     "output_type": "stream",
     "text": [
      "[ 0.22653077  0.92959937]\n",
      "[ 0.20116279 -0.37790698]\n",
      "[ 0.21573875 -0.37939629]\n",
      "[ 0.21576091 -0.37954124]\n",
      "[ 0.21576092 -0.37954125]\n"
     ]
    }
   ],
   "source": [
    "def newtons(funcvec, x0, tol=1e-10, nmax=100, convarray=False):\n",
    "    # Vector of functions and variables,\n",
    "    # as column vectors.\n",
    "    funcvec = np.array(funcvec).T\n",
    "    x0 = np.array(x0).T\n",
    "    # Initializing to random sequence.\n",
    "    xk = np.random.rand(len(x0))\n",
    "    \n",
    "    # Initial LHS and RHS tolerance calculation\n",
    "    # values.\n",
    "    reslhs = np.linalg.norm(xk-x0)\n",
    "    resrhs = tol*(1+np.linalg.norm(xk))\n",
    "    \n",
    "    niter = 0\n",
    "    bflag = 0\n",
    "    \n",
    "    # List of values to return if convarray is True\n",
    "    xvals = []\n",
    "    while reslhs > resrhs:\n",
    "        \n",
    "        if convarray:\n",
    "            xvals.append(x0)\n",
    "            \n",
    "        if niter > nmax:\n",
    "            bflag = 1\n",
    "            print(\"Max number of iterations reached. No convergence.\")\n",
    "            break\n",
    "        \n",
    "        \n",
    "        niter += 1\n",
    "        \n",
    "        # This part of the algorithm implements a generalized\n",
    "        # Newton's method for systems as described in Uri p254.\n",
    "        # The variable naming convention is also according\n",
    "        # to the described notation in the book.\n",
    "        \n",
    "        #f(k): vector of function values\n",
    "        funcvals_xk = np.array([func(x0) for func in funcvec])\n",
    "        \n",
    "        # Jacobian of functions at current point.\n",
    "        jacmatrix = jacobian(funcvec, x0)\n",
    "        \n",
    "        # The direction vector, as shown in Uri p253/254\n",
    "        pk = np.linalg.solve(jacmatrix, -funcvals_xk)\n",
    "        \n",
    "        # Calculating LHS and RHS for stopping criterium.\n",
    "        reslhs = np.linalg.norm(pk)\n",
    "        resrhs = tol*(1+np.linalg.norm(xk))\n",
    "        \n",
    "        print(xk)\n",
    "        xk = x0 + pk\n",
    "        resrhs = tol*(1+np.linalg.norm(xk))\n",
    "        x0 = xk\n",
    "    # If asking for convergence, returns final xvec\n",
    "    # as well as convergence progress.\n",
    "    if convarray:\n",
    "        return x0, np.array(xvals)\n",
    "    \n",
    "    return x0\n",
    "    \n",
    "    \n",
    "    \n",
    "\n",
    "\n",
    "funcs = [lambda x: x[0] + x[1] - 2*x[0]*x[1],\n",
    "         lambda x: x[0]**2 + x[1]**2 - 2*(x[0]-x[1])+1]\n",
    "\n",
    "# Solves the system of equations\n",
    "# Returns convergence trend and final solution vector\n",
    "x, conv = newtons(funcs, [0.1, -0.5], convarray=True)"
   ]
  },
  {
   "cell_type": "code",
   "execution_count": 42,
   "metadata": {
    "collapsed": false
   },
   "outputs": [
    {
     "data": {
      "text/plain": [
       "<matplotlib.text.Text at 0x89b87f9da0>"
      ]
     },
     "execution_count": 42,
     "metadata": {},
     "output_type": "execute_result"
    },
    {
     "data": {
      "image/png": "[encoded data removed]",
      "text/plain": [
       "<matplotlib.figure.Figure at 0x89bb013fd0>"
      ]
     },
     "metadata": {},
     "output_type": "display_data"
    }
   ],
   "source": [
    "# Showing quadratic convergence of the\n",
    "# method.\n",
    "convergence_trend = np.log10(np.abs(conv-x))\n",
    "plt.plot(convergence_trend)\n",
    "plt.grid()\n",
    "plt.title(\"Convergence trend for system of equations\")\n",
    "plt.xlabel(\"Iteration number\")\n",
    "plt.ylabel(\"Log10 of error in iterate vs last iterate\")"
   ]
  },
  {
   "cell_type": "code",
   "execution_count": null,
   "metadata": {
    "collapsed": true
   },
   "outputs": [],
   "source": []
  }
 ],
 "metadata": {
  "anaconda-cloud": {},
  "kernelspec": {
   "display_name": "Python [conda root]",
   "language": "python",
   "name": "conda-root-py"
  },
  "language_info": {
   "codemirror_mode": {
    "name": "ipython",
    "version": 3
   },
   "file_extension": ".py",
   "mimetype": "text/x-python",
   "name": "python",
   "nbconvert_exporter": "python",
   "pygments_lexer": "ipython3",
   "version": "3.5.2"
  }
 },
 "nbformat": 4,
 "nbformat_minor": 2
}
