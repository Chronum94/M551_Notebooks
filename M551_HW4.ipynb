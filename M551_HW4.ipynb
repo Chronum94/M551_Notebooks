{
 "cells": [
  {
   "cell_type": "code",
   "execution_count": 1,
   "metadata": {
    "collapsed": true
   },
   "outputs": [],
   "source": [
    "# Imports\n",
    "import numpy as np\n",
    "import matplotlib.pyplot as plt\n",
    "%matplotlib inline"
   ]
  },
  {
   "cell_type": "code",
   "execution_count": 2,
   "metadata": {
    "collapsed": false
   },
   "outputs": [],
   "source": [
    "def my_linsolver(A, b):\n",
    "    A = A.astype('float64')\n",
    "    b = b.astype('float64')\n",
    "    nrows = A.shape[0]\n",
    "    # Creating the augmented matrix.\n",
    "    # This is done so it's easy to solve the system\n",
    "    # using simple elimination steps without\n",
    "    # having to alter a separate vector. \n",
    "    A = np.hstack([A, b])\n",
    "\n",
    "    # Creating the solution vector:\n",
    "    solvec = np.zeros([nrows, 1])\n",
    "    # Backward elimination loop. One loop is vectorized\n",
    "    # Using Numpy slice notation.\n",
    "    # Looping over all rows except last one.\n",
    "    # This loop is the outermost loop\n",
    "    # using which the multipliers are calculated.\n",
    "    for rownum in range(nrows):\n",
    "\n",
    "        # All rows below the current row\n",
    "        # in which the elements below the diagonal element\n",
    "        # are being zeroed out.\n",
    "        for rownum_below in range(rownum+1, nrows):\n",
    "\n",
    "            # Calculating the multipliers for each row\n",
    "            # to zero out all elements in the column\n",
    "            # below the row A[rownum, :]\n",
    "            # These are used later for LU decompositionsteps.\n",
    "            multiplier = A[rownum_below, rownum]/A[rownum, rownum]\n",
    "\n",
    "            # Debug print.\n",
    "            # print(multiplier)\n",
    "\n",
    "            # Eliminating all rows below A[rownum, :]\n",
    "            A[rownum_below, :] -= multiplier*A[rownum, :]\n",
    "\n",
    "        # Forcing all eliminated elements to 0.\n",
    "        # This is done to prevent roundoff blowup.\n",
    "        # Just in case.\n",
    "        A[rownum+1:, rownum] = 0\n",
    "    # print(A)\n",
    "\n",
    "    # Returning to matrix and vector separately.\n",
    "    b = A[:, -1]\n",
    "    A = A[:, :-1]\n",
    "    # Backsubstitution loop.\n",
    "    # The outermost loop goes from the last row\n",
    "    # to the second row.\n",
    "    for rownum in range(nrows-1, -1, -1):\n",
    "        solvec[rownum, 0] = (b[rownum]-\\\n",
    "              np.sum(A[rownum, rownum+1:]*solvec[rownum+1:, 0]))\\\n",
    "        /A[rownum, rownum]\n",
    "\n",
    "    # Returning the solution vector.\n",
    "    return solvec"
   ]
  },
  {
   "cell_type": "code",
   "execution_count": 3,
   "metadata": {
    "collapsed": false
   },
   "outputs": [
    {
     "name": "stdout",
     "output_type": "stream",
     "text": [
      "Solution is:\n",
      " [[ 1.]\n",
      " [-1.]\n",
      " [ 1.]]\n"
     ]
    }
   ],
   "source": [
    "# Solving system 1.\n",
    "A1 = np.array([[3, 1, 4],\n",
    "              [0, 1, -2],\n",
    "              [1, 2, -1]])\n",
    "b1 = np.array([[6, -3, -2]]).T\n",
    "x1 = my_linsolver(A1, b1)\n",
    "print(\"Solution is:\\n\", x1)"
   ]
  },
  {
   "cell_type": "code",
   "execution_count": 4,
   "metadata": {
    "collapsed": false
   },
   "outputs": [
    {
     "name": "stdout",
     "output_type": "stream",
     "text": [
      "Solution:\n",
      " [[-2.66666667]\n",
      " [ 0.66666667]\n",
      " [-1.66666667]\n",
      " [ 4.        ]]\n",
      "||b2-A2x2||:\n",
      " 1.9860273226e-15\n"
     ]
    }
   ],
   "source": [
    "# Solving system 2.\n",
    "A2 = np.array([[1, 1, 0, 1],\n",
    "              [2, 1, -1, 1],\n",
    "              [4, -1, -2, 2],\n",
    "              [3, -1, -1, 1]])\n",
    "\n",
    "b2 = np.array([[2, 1, 0, -3]]).T\n",
    "\n",
    "x2 = my_linsolver(A2, b2)\n",
    "print('Solution:\\n', x2)\n",
    "print('||b2-A2x2||:\\n', np.linalg.norm(b2-np.dot(A2, x2)))"
   ]
  },
  {
   "cell_type": "code",
   "execution_count": 10,
   "metadata": {
    "collapsed": false
   },
   "outputs": [],
   "source": [
    "def my_linsolver_lu(A, b):\n",
    "    \n",
    "    nrows = A.shape[0]\n",
    "    A = A.astype('float64')\n",
    "    b = b.astype('float64')\n",
    "    # Ac, bc = A.copy(), b.copy()\n",
    "    \n",
    "    L = np.eye(nrows)\n",
    "\n",
    "    # Backward elimination loop. One loop is vectorized\n",
    "    # using Numpy slice notation.\n",
    "    # Looping over all rows except last one.\n",
    "    # This loop is the outermost loop.\n",
    "    for rownum in range(nrows):\n",
    "\n",
    "        # All rows below the current row\n",
    "        # in which the elements below the diagonal element\n",
    "        # are being zeroed out.\n",
    "        for rownum_below in range(rownum+1, nrows):\n",
    "\n",
    "            # Calculating the multipliers for each row\n",
    "            # to zero out all elements in the column\n",
    "            # below the row A[rownum, :]\n",
    "            # These are used later for LU decompositionsteps.\n",
    "            multiplier = A[rownum_below, rownum]/A[rownum, rownum]\n",
    "            L[rownum_below, rownum] = multiplier\n",
    "            # Debug print.\n",
    "            # print(multiplier)\n",
    "\n",
    "            # Eliminating all rows below A[rownum, :]\n",
    "            A[rownum_below, :] -= multiplier*A[rownum, :]\n",
    "\n",
    "        # Forcing all eliminated elements to 0.\n",
    "        # This is done to prevent roundoff blowup.\n",
    "        # Just in case.\n",
    "        A[rownum+1:, rownum] = 0\n",
    "    \n",
    "    U = A[:, :nrows]\n",
    "    yvec = np.zeros([nrows, 1])\n",
    "    solvec = np.zeros([nrows, 1])\n",
    "    \n",
    "    # Forward substitution of the Ly = b problem.\n",
    "    for rownum in range(nrows):\n",
    "        yvec[rownum, 0] = (b[rownum]-\\\n",
    "            np.sum(L[rownum, :rownum]*yvec[:rownum, 0]))\\\n",
    "        /L[rownum, rownum]\n",
    "        \n",
    "    # print(\"y numpy\", np.linalg.solve(L, b)-yvec.T)\n",
    "    \n",
    "    # Backward substitution of the Ux = y problem.\n",
    "    for rownum in range(nrows-1, -1, -1):\n",
    "        solvec[rownum, 0] = (yvec[rownum]-\\\n",
    "              np.sum(U[rownum, rownum+1:]*solvec[rownum+1:, 0]))\\\n",
    "        /U[rownum, rownum]\n",
    "        \n",
    "    print(L, '\\n\\n', U)\n",
    "    \n",
    "    return solvec"
   ]
  },
  {
   "cell_type": "code",
   "execution_count": 11,
   "metadata": {
    "collapsed": false
   },
   "outputs": [
    {
     "name": "stdout",
     "output_type": "stream",
     "text": [
      "[[ 1.  0.  0.  0.]\n",
      " [ 2.  1.  0.  0.]\n",
      " [ 4.  5.  1.  0.]\n",
      " [ 3.  4.  1.  1.]] \n",
      "\n",
      " [[ 1.  1.  0.  1.]\n",
      " [ 0. -1. -1. -1.]\n",
      " [ 0.  0.  3.  3.]\n",
      " [ 0.  0.  0. -1.]]\n",
      "[[-2.66666667]\n",
      " [ 0.66666667]\n",
      " [-1.66666667]\n",
      " [ 4.        ]] \n",
      "\n",
      "5.97873396028e-16\n"
     ]
    }
   ],
   "source": [
    "x2_lu = my_linsolver_lu(A2, b2)\n",
    "x2 = np.linalg.solve(A2, b2)\n",
    "print(x2_lu, '\\n')\n",
    "print(np.linalg.norm(x2-x2_lu))"
   ]
  },
  {
   "cell_type": "code",
   "execution_count": 7,
   "metadata": {
    "collapsed": false
   },
   "outputs": [
    {
     "name": "stdout",
     "output_type": "stream",
     "text": [
      "Solution:\n",
      " [ 1.  1.  1.  1.  1.]\n"
     ]
    }
   ],
   "source": [
    "def trisolve(ldiag, diag, udiag, f):\n",
    "    \n",
    "    # The number of elements in the main diagonal.\n",
    "    n = len(diag)\n",
    "    Ldiag = np.zeros(n)\n",
    "    # The lower diagonal elements start from b2\n",
    "    Ldiag[1:] = ldiag\n",
    "    Udiag = np.zeros(n)\n",
    "    \n",
    "    # The upper diagonal elements end at c_n-1\n",
    "    Udiag[:-1] = udiag\n",
    "    Mdiag = diag\n",
    "    \n",
    "    # The main diagonal of L is ones.\n",
    "    # The lower diagonal of L is Lvec.\n",
    "    # The main diagonal of U is Uvec.\n",
    "    # The upper diagonal of U is Udiag\n",
    "    # Setting the first components of the vectors\n",
    "    # and looping from the second component.\n",
    "    Lvec, Uvec = np.zeros(n), np.zeros(n)\n",
    "    Lvec[0], Uvec[0] = 0, diag[0]\n",
    "    \n",
    "    # Solver loop. \n",
    "    for i in range(1, n):\n",
    "        Lvec[i] = Ldiag[i]/Uvec[i-1]\n",
    "        Uvec[i] = Mdiag[i] - Lvec[i]*Udiag[i-1]\n",
    "        \n",
    "    # The three lines below can be uncommented.\n",
    "    # to verify the LU decomposition.\n",
    "    # L = np.diagflat(Lvec[1:], -1)+np.eye(n)\n",
    "    # U = np.diagflat(Udiag[:-1], 1)+np.diagflat(Uvec, 0)\n",
    "    #print(L@U)\n",
    "    \n",
    "    yvec = np.zeros([n])\n",
    "    yvec[0] = f[0]\n",
    "    for i in range(1, n):\n",
    "        yvec[i] = f[i] - Lvec[i]*yvec[i-1]\n",
    "        \n",
    "    xvec = np.zeros([n])\n",
    "    xvec[-1] = yvec[-1]/Uvec[-1]\n",
    "    for i in range(n-2, -1, -1):\n",
    "        xvec[i] = (yvec[i]-Udiag[i]*xvec[i+1])/Uvec[i]\n",
    "    \n",
    "    # print(xvec)\n",
    "    return xvec\n",
    "\n",
    "sol = trisolve(np.array([-1,-1,-1,-1]), \n",
    "         np.array([2, 2, 2, 2, 2]), \n",
    "         np.array([-1,-1,-1,-1]), \n",
    "         np.array([1,0,0,0,1]))\n",
    "\n",
    "print('Solution:\\n', sol)"
   ]
  },
  {
   "cell_type": "code",
   "execution_count": 8,
   "metadata": {
    "collapsed": false
   },
   "outputs": [],
   "source": [
    "p = 24\n",
    "x = np.linspace(0, 1, p)\n",
    "h = x[1]-x[0]\n",
    "l, u = np.zeros(p-1)+1, np.zeros(p-1)+1\n",
    "d = np.zeros(p)-2-h*h\n",
    "sol = trisolve(l, d, u, h*h*x)"
   ]
  },
  {
   "cell_type": "code",
   "execution_count": 9,
   "metadata": {
    "collapsed": false
   },
   "outputs": [
    {
     "name": "stdout",
     "output_type": "stream",
     "text": [
      "Norm:\n",
      " 0.0480489493857\n"
     ]
    },
    {
     "data": {
      "text/plain": [
       "<matplotlib.legend.Legend at 0x3eeeaf4e0>"
      ]
     },
     "execution_count": 9,
     "metadata": {},
     "output_type": "execute_result"
    },
    {
     "data": {
      "image/png": "[encoded data removed]",
      "text/plain": [
       "<matplotlib.figure.Figure at 0x3eee1fda0>"
      ]
     },
     "metadata": {},
     "output_type": "display_data"
    }
   ],
   "source": [
    "plt.plot(sol)\n",
    "solexact = np.exp(1)/(np.exp(1)**2-1)*(np.exp(x)-np.exp(-x))-x\n",
    "plt.plot(solexact, 'ko', markevery=int(p/50+1))\n",
    "print('Norm:\\n', np.linalg.norm(solexact-sol))\n",
    "plt.legend(['Numerical', 'Exact'])"
   ]
  },
  {
   "cell_type": "code",
   "execution_count": null,
   "metadata": {
    "collapsed": true
   },
   "outputs": [],
   "source": []
  }
 ],
 "metadata": {
  "anaconda-cloud": {},
  "kernelspec": {
   "display_name": "Python [conda root]",
   "language": "python",
   "name": "conda-root-py"
  },
  "language_info": {
   "codemirror_mode": {
    "name": "ipython",
    "version": 3
   },
   "file_extension": ".py",
   "mimetype": "text/x-python",
   "name": "python",
   "nbconvert_exporter": "python",
   "pygments_lexer": "ipython3",
   "version": "3.5.2"
  }
 },
 "nbformat": 4,
 "nbformat_minor": 2
}
