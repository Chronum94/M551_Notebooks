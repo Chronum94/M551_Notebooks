{
 "cells": [
  {
   "cell_type": "code",
   "execution_count": 8,
   "metadata": {
    "collapsed": true
   },
   "outputs": [],
   "source": [
    "import numpy as np\n",
    "import matplotlib.pyplot as plt\n",
    "import pandas as pd"
   ]
  },
  {
   "cell_type": "code",
   "execution_count": 9,
   "metadata": {
    "collapsed": true
   },
   "outputs": [],
   "source": [
    "def trap(f, a, b, n):\n",
    "    h = (b-a)/n\n",
    "    integral = 0\n",
    "    for i in range(n):\n",
    "        integral += (f(i*h)+f((i+1)*h))*h/2\n",
    "    # print(integral)\n",
    "    return integral"
   ]
  },
  {
   "cell_type": "code",
   "execution_count": 10,
   "metadata": {
    "collapsed": true
   },
   "outputs": [],
   "source": [
    "def f1(x):\n",
    "    return 3*x+1\n",
    "def f2(x):\n",
    "    return x*np.exp(-x*x)\n",
    "def f3(x):\n",
    "    return np.cos(x)+1"
   ]
  },
  {
   "cell_type": "code",
   "execution_count": 11,
   "metadata": {
    "collapsed": true
   },
   "outputs": [],
   "source": [
    "f1int = 2.5\n",
    "f2int = (np.exp(1)-1)/(2*np.exp(1))\n",
    "f3int = 2*np.pi"
   ]
  },
  {
   "cell_type": "code",
   "execution_count": 12,
   "metadata": {},
   "outputs": [
    {
     "data": {
      "text/html": [
       "<div>\n",
       "<table border=\"1\" class=\"dataframe\">\n",
       "  <thead>\n",
       "    <tr style=\"text-align: right;\">\n",
       "      <th></th>\n",
       "      <th>N</th>\n",
       "      <th>h</th>\n",
       "      <th>Trapz_result</th>\n",
       "      <th>Error</th>\n",
       "      <th>Relative_err</th>\n",
       "    </tr>\n",
       "  </thead>\n",
       "  <tbody>\n",
       "    <tr>\n",
       "      <th>0</th>\n",
       "      <td>2</td>\n",
       "      <td>0.500000</td>\n",
       "      <td>2.5</td>\n",
       "      <td>0.0</td>\n",
       "      <td>0.0</td>\n",
       "    </tr>\n",
       "    <tr>\n",
       "      <th>1</th>\n",
       "      <td>4</td>\n",
       "      <td>0.250000</td>\n",
       "      <td>2.5</td>\n",
       "      <td>0.0</td>\n",
       "      <td>0.0</td>\n",
       "    </tr>\n",
       "    <tr>\n",
       "      <th>2</th>\n",
       "      <td>8</td>\n",
       "      <td>0.125000</td>\n",
       "      <td>2.5</td>\n",
       "      <td>0.0</td>\n",
       "      <td>0.0</td>\n",
       "    </tr>\n",
       "    <tr>\n",
       "      <th>3</th>\n",
       "      <td>16</td>\n",
       "      <td>0.062500</td>\n",
       "      <td>2.5</td>\n",
       "      <td>0.0</td>\n",
       "      <td>0.0</td>\n",
       "    </tr>\n",
       "    <tr>\n",
       "      <th>4</th>\n",
       "      <td>32</td>\n",
       "      <td>0.031250</td>\n",
       "      <td>2.5</td>\n",
       "      <td>0.0</td>\n",
       "      <td>0.0</td>\n",
       "    </tr>\n",
       "    <tr>\n",
       "      <th>5</th>\n",
       "      <td>64</td>\n",
       "      <td>0.015625</td>\n",
       "      <td>2.5</td>\n",
       "      <td>0.0</td>\n",
       "      <td>0.0</td>\n",
       "    </tr>\n",
       "  </tbody>\n",
       "</table>\n",
       "</div>"
      ],
      "text/plain": [
       "    N         h  Trapz_result  Error  Relative_err\n",
       "0   2  0.500000           2.5    0.0           0.0\n",
       "1   4  0.250000           2.5    0.0           0.0\n",
       "2   8  0.125000           2.5    0.0           0.0\n",
       "3  16  0.062500           2.5    0.0           0.0\n",
       "4  32  0.031250           2.5    0.0           0.0\n",
       "5  64  0.015625           2.5    0.0           0.0"
      ]
     },
     "execution_count": 12,
     "metadata": {},
     "output_type": "execute_result"
    }
   ],
   "source": [
    "datablob = []\n",
    "a, b = 0, 1\n",
    "for i in range(1, 7):\n",
    "    n = 2**i\n",
    "    h = (b-a)/n\n",
    "    integ = trap(f1, a, b, n)\n",
    "    err = abs(f1int - integ)\n",
    "    relerr = err/(h*h)\n",
    "    datablob.append([n, h, integ, err, relerr])\n",
    "datablob = pd.DataFrame(datablob, \n",
    "            columns=['N', 'h', 'Trapz_result', 'Error', 'Relative_err'])\n",
    "datablob\n",
    "    "
   ]
  },
  {
   "cell_type": "code",
   "execution_count": 13,
   "metadata": {},
   "outputs": [
    {
     "data": {
      "text/html": [
       "<div>\n",
       "<table border=\"1\" class=\"dataframe\">\n",
       "  <thead>\n",
       "    <tr style=\"text-align: right;\">\n",
       "      <th></th>\n",
       "      <th>N</th>\n",
       "      <th>h</th>\n",
       "      <th>Trapz_result</th>\n",
       "      <th>Error</th>\n",
       "      <th>Relative_err</th>\n",
       "    </tr>\n",
       "  </thead>\n",
       "  <tbody>\n",
       "    <tr>\n",
       "      <th>0</th>\n",
       "      <td>2</td>\n",
       "      <td>0.500000</td>\n",
       "      <td>0.286670</td>\n",
       "      <td>0.029390</td>\n",
       "      <td>0.117561</td>\n",
       "    </tr>\n",
       "    <tr>\n",
       "      <th>1</th>\n",
       "      <td>4</td>\n",
       "      <td>0.250000</td>\n",
       "      <td>0.308883</td>\n",
       "      <td>0.007178</td>\n",
       "      <td>0.114842</td>\n",
       "    </tr>\n",
       "    <tr>\n",
       "      <th>2</th>\n",
       "      <td>8</td>\n",
       "      <td>0.125000</td>\n",
       "      <td>0.314276</td>\n",
       "      <td>0.001784</td>\n",
       "      <td>0.114201</td>\n",
       "    </tr>\n",
       "    <tr>\n",
       "      <th>3</th>\n",
       "      <td>16</td>\n",
       "      <td>0.062500</td>\n",
       "      <td>0.315615</td>\n",
       "      <td>0.000445</td>\n",
       "      <td>0.114043</td>\n",
       "    </tr>\n",
       "    <tr>\n",
       "      <th>4</th>\n",
       "      <td>32</td>\n",
       "      <td>0.031250</td>\n",
       "      <td>0.315949</td>\n",
       "      <td>0.000111</td>\n",
       "      <td>0.114003</td>\n",
       "    </tr>\n",
       "    <tr>\n",
       "      <th>5</th>\n",
       "      <td>64</td>\n",
       "      <td>0.015625</td>\n",
       "      <td>0.316032</td>\n",
       "      <td>0.000028</td>\n",
       "      <td>0.113993</td>\n",
       "    </tr>\n",
       "  </tbody>\n",
       "</table>\n",
       "</div>"
      ],
      "text/plain": [
       "    N         h  Trapz_result     Error  Relative_err\n",
       "0   2  0.500000      0.286670  0.029390      0.117561\n",
       "1   4  0.250000      0.308883  0.007178      0.114842\n",
       "2   8  0.125000      0.314276  0.001784      0.114201\n",
       "3  16  0.062500      0.315615  0.000445      0.114043\n",
       "4  32  0.031250      0.315949  0.000111      0.114003\n",
       "5  64  0.015625      0.316032  0.000028      0.113993"
      ]
     },
     "execution_count": 13,
     "metadata": {},
     "output_type": "execute_result"
    }
   ],
   "source": [
    "datablob = []\n",
    "a, b = 0, 1\n",
    "for i in range(1, 7):\n",
    "    n = 2**i\n",
    "    h = (b-a)/n\n",
    "    integ = trap(f2, a, b, n)\n",
    "    err = abs(f2int - integ)\n",
    "    relerr = err/(h*h)\n",
    "    datablob.append([n, h, integ, err, relerr])\n",
    "datablob = pd.DataFrame(datablob, \n",
    "            columns=['N', 'h', 'Trapz_result', 'Error', 'Relative_err'])\n",
    "datablob\n",
    "    "
   ]
  },
  {
   "cell_type": "code",
   "execution_count": 14,
   "metadata": {},
   "outputs": [
    {
     "data": {
      "text/html": [
       "<div>\n",
       "<table border=\"1\" class=\"dataframe\">\n",
       "  <thead>\n",
       "    <tr style=\"text-align: right;\">\n",
       "      <th></th>\n",
       "      <th>N</th>\n",
       "      <th>h</th>\n",
       "      <th>Trapz_result</th>\n",
       "      <th>Error</th>\n",
       "      <th>Relative_err</th>\n",
       "    </tr>\n",
       "  </thead>\n",
       "  <tbody>\n",
       "    <tr>\n",
       "      <th>0</th>\n",
       "      <td>2</td>\n",
       "      <td>3.141593</td>\n",
       "      <td>6.283185</td>\n",
       "      <td>0.000000e+00</td>\n",
       "      <td>0.000000e+00</td>\n",
       "    </tr>\n",
       "    <tr>\n",
       "      <th>1</th>\n",
       "      <td>4</td>\n",
       "      <td>1.570796</td>\n",
       "      <td>6.283185</td>\n",
       "      <td>0.000000e+00</td>\n",
       "      <td>0.000000e+00</td>\n",
       "    </tr>\n",
       "    <tr>\n",
       "      <th>2</th>\n",
       "      <td>8</td>\n",
       "      <td>0.785398</td>\n",
       "      <td>6.283185</td>\n",
       "      <td>0.000000e+00</td>\n",
       "      <td>0.000000e+00</td>\n",
       "    </tr>\n",
       "    <tr>\n",
       "      <th>3</th>\n",
       "      <td>16</td>\n",
       "      <td>0.392699</td>\n",
       "      <td>6.283185</td>\n",
       "      <td>8.881784e-16</td>\n",
       "      <td>5.759442e-15</td>\n",
       "    </tr>\n",
       "    <tr>\n",
       "      <th>4</th>\n",
       "      <td>32</td>\n",
       "      <td>0.196350</td>\n",
       "      <td>6.283185</td>\n",
       "      <td>0.000000e+00</td>\n",
       "      <td>0.000000e+00</td>\n",
       "    </tr>\n",
       "    <tr>\n",
       "      <th>5</th>\n",
       "      <td>64</td>\n",
       "      <td>0.098175</td>\n",
       "      <td>6.283185</td>\n",
       "      <td>8.881784e-16</td>\n",
       "      <td>9.215108e-14</td>\n",
       "    </tr>\n",
       "  </tbody>\n",
       "</table>\n",
       "</div>"
      ],
      "text/plain": [
       "    N         h  Trapz_result         Error  Relative_err\n",
       "0   2  3.141593      6.283185  0.000000e+00  0.000000e+00\n",
       "1   4  1.570796      6.283185  0.000000e+00  0.000000e+00\n",
       "2   8  0.785398      6.283185  0.000000e+00  0.000000e+00\n",
       "3  16  0.392699      6.283185  8.881784e-16  5.759442e-15\n",
       "4  32  0.196350      6.283185  0.000000e+00  0.000000e+00\n",
       "5  64  0.098175      6.283185  8.881784e-16  9.215108e-14"
      ]
     },
     "execution_count": 14,
     "metadata": {},
     "output_type": "execute_result"
    }
   ],
   "source": [
    "datablob = []\n",
    "a, b = 0, 2*np.pi\n",
    "for i in range(1, 7):\n",
    "    n = 2**i\n",
    "    h = (b-a)/n\n",
    "    integ = trap(f3, a, b, n)\n",
    "    err = abs(f3int - integ)\n",
    "    relerr = err/(h*h)\n",
    "    datablob.append([n, h, integ, err, relerr])\n",
    "datablob = pd.DataFrame(datablob, \n",
    "            columns=['N', 'h', 'Trapz_result', 'Error', 'Relative_err'])\n",
    "datablob\n",
    "    "
   ]
  }
 ],
 "metadata": {
  "kernelspec": {
   "display_name": "Python 3",
   "language": "python",
   "name": "python3"
  },
  "language_info": {
   "codemirror_mode": {
    "name": "ipython",
    "version": 3
   },
   "file_extension": ".py",
   "mimetype": "text/x-python",
   "name": "python",
   "nbconvert_exporter": "python",
   "pygments_lexer": "ipython3",
   "version": "3.6.1"
  }
 },
 "nbformat": 4,
 "nbformat_minor": 2
}
